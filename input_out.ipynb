{
 "cells": [
  {
   "cell_type": "markdown",
   "metadata": {},
   "source": [
    "# Input and Outpu"
   ]
  },
  {
   "cell_type": "code",
   "execution_count": 1,
   "metadata": {},
   "outputs": [],
   "source": [
    "import json as json\n",
    "import pandas as pd\n",
    "import numpy as np\n",
    "import matplotlib.pyplot as plt\n",
    "%matplotlib inline"
   ]
  },
  {
   "cell_type": "code",
   "execution_count": 2,
   "metadata": {},
   "outputs": [],
   "source": [
    "mkdir data"
   ]
  },
  {
   "cell_type": "code",
   "execution_count": 3,
   "metadata": {},
   "outputs": [
    {
     "name": "stderr",
     "output_type": "stream",
     "text": [
      "A subdirectory or file data already exists.\n"
     ]
    }
   ],
   "source": [
    "mkdir data\n"
   ]
  },
  {
   "cell_type": "code",
   "execution_count": 4,
   "metadata": {},
   "outputs": [],
   "source": [
    "with open('data/test.txt', 'w') as file:\n",
    "    for k in range(100):\n",
    "        file.write(\"it is your\"+str(k)+\"th turn! \\n\")"
   ]
  },
  {
   "cell_type": "code",
   "execution_count": 5,
   "metadata": {},
   "outputs": [],
   "source": [
    "txtfile=open(\"data/textdata.txt\", 'w')"
   ]
  },
  {
   "cell_type": "code",
   "execution_count": 11,
   "metadata": {},
   "outputs": [],
   "source": [
    "for i in range (1000):\n",
    "    '''chek even and odd'''\n",
    "    if i%2 ==0:\n",
    "        txtfile.write(str(i)+\"|It is even\")\n",
    "        if i<500:\n",
    "            txtfile.write(str(i)+\"|It is below 500 \\n\")\n",
    "        else:\n",
    "                txtfile.write(str(i)+\"|It is above 500 \\n\")\n",
    "                \n",
    "    else:\n",
    "        txtfile.write(str(i) + \"|It is odd \\n\")\n",
    "        if i<500:\n",
    "                txtfile.write(str(i) + \"|It is below 500 \\n\")\n",
    "        else:\n",
    "                txtfile.write(str(i) + \"|It is above 500 \\n\")\n",
    "txtfile.close()\n",
    "                "
   ]
  },
  {
   "cell_type": "code",
   "execution_count": 13,
   "metadata": {},
   "outputs": [
    {
     "name": "stdout",
     "output_type": "stream",
     "text": [
      "0|It is even0|It is below 500 \n",
      "\n",
      "1|It is odd \n",
      "\n",
      "1|It is below 500 \n",
      "\n",
      "2|It is even2|It is below 500 \n",
      "\n",
      "3|It is odd \n",
      "\n",
      "3|It is below 500 \n",
      "\n",
      "4|It is even4|It is below 500 \n",
      "\n",
      "5|It is odd \n",
      "\n",
      "5|It is below 500 \n",
      "\n",
      "6|It is even6|It is below 500 \n",
      "\n",
      "7|It is odd \n",
      "\n",
      "7|It is below 500 \n",
      "\n"
     ]
    }
   ],
   "source": [
    "with open('data/textdata.txt','r') as f:\n",
    "    i = 0\n",
    "    for line in f:\n",
    "        print(line)\n",
    "        if i>10:\n",
    "            break\n",
    "        i=i+1"
   ]
  },
  {
   "cell_type": "markdown",
   "metadata": {},
   "source": [
    "JSON file"
   ]
  },
  {
   "cell_type": "code",
   "execution_count": 18,
   "metadata": {},
   "outputs": [],
   "source": [
    "Data = []\n",
    "for k in range(1000):\n",
    "    Data.append({\"x\" : np.random.uniform(0,10),\\\n",
    "        \"y\" : np.random.uniform(0,20),\\\n",
    "        \"z\" : np.random.uniform(0,10)})"
   ]
  },
  {
   "cell_type": "code",
   "execution_count": 19,
   "metadata": {},
   "outputs": [
    {
     "data": {
      "text/plain": [
       "[{'x': 0.18884849023016015,\n",
       "  'y': 6.649163442633032,\n",
       "  'z': 0.0038872887218310836},\n",
       " {'x': 2.385803745657573, 'y': 8.454929751166917, 'z': 1.0428946574151532},\n",
       " {'x': 8.767530432774251, 'y': 9.784297709415073, 'z': 0.09753052544669627},\n",
       " {'x': 8.756566544332859, 'y': 17.489018810950924, 'z': 7.997323105819633}]"
      ]
     },
     "execution_count": 19,
     "metadata": {},
     "output_type": "execute_result"
    }
   ],
   "source": [
    "Data[101:105]"
   ]
  },
  {
   "cell_type": "code",
   "execution_count": 20,
   "metadata": {},
   "outputs": [],
   "source": [
    "with open(\"data/sample_data.json\", 'w') as f:\n",
    "    json.dump(Data,f)"
   ]
  },
  {
   "cell_type": "code",
   "execution_count": 23,
   "metadata": {},
   "outputs": [],
   "source": [
    "with open(\"data/sample_data.json\",\"r\") as f:\n",
    "    uploaded_data = json.load(f)"
   ]
  },
  {
   "cell_type": "code",
   "execution_count": 24,
   "metadata": {},
   "outputs": [
    {
     "data": {
      "text/plain": [
       "[{'x': 0.18398076902191196, 'y': 3.996235846190208, 'z': 4.771160938444698},\n",
       " {'x': 3.4491899034459372, 'y': 9.555414484462073, 'z': 6.604111758448027}]"
      ]
     },
     "execution_count": 24,
     "metadata": {},
     "output_type": "execute_result"
    }
   ],
   "source": [
    "uploaded_data[0:2]"
   ]
  },
  {
   "cell_type": "code",
   "execution_count": 25,
   "metadata": {},
   "outputs": [
    {
     "data": {
      "text/html": [
       "<div>\n",
       "<style scoped>\n",
       "    .dataframe tbody tr th:only-of-type {\n",
       "        vertical-align: middle;\n",
       "    }\n",
       "\n",
       "    .dataframe tbody tr th {\n",
       "        vertical-align: top;\n",
       "    }\n",
       "\n",
       "    .dataframe thead th {\n",
       "        text-align: right;\n",
       "    }\n",
       "</style>\n",
       "<table border=\"1\" class=\"dataframe\">\n",
       "  <thead>\n",
       "    <tr style=\"text-align: right;\">\n",
       "      <th></th>\n",
       "      <th>x</th>\n",
       "      <th>y</th>\n",
       "      <th>z</th>\n",
       "    </tr>\n",
       "  </thead>\n",
       "  <tbody>\n",
       "    <tr>\n",
       "      <th>0</th>\n",
       "      <td>0.183981</td>\n",
       "      <td>3.996236</td>\n",
       "      <td>4.771161</td>\n",
       "    </tr>\n",
       "    <tr>\n",
       "      <th>1</th>\n",
       "      <td>3.449190</td>\n",
       "      <td>9.555414</td>\n",
       "      <td>6.604112</td>\n",
       "    </tr>\n",
       "    <tr>\n",
       "      <th>2</th>\n",
       "      <td>3.600050</td>\n",
       "      <td>12.032142</td>\n",
       "      <td>5.564332</td>\n",
       "    </tr>\n",
       "    <tr>\n",
       "      <th>3</th>\n",
       "      <td>1.238534</td>\n",
       "      <td>7.251211</td>\n",
       "      <td>4.648182</td>\n",
       "    </tr>\n",
       "    <tr>\n",
       "      <th>4</th>\n",
       "      <td>7.091939</td>\n",
       "      <td>2.704038</td>\n",
       "      <td>8.385296</td>\n",
       "    </tr>\n",
       "  </tbody>\n",
       "</table>\n",
       "</div>"
      ],
      "text/plain": [
       "          x          y         z\n",
       "0  0.183981   3.996236  4.771161\n",
       "1  3.449190   9.555414  6.604112\n",
       "2  3.600050  12.032142  5.564332\n",
       "3  1.238534   7.251211  4.648182\n",
       "4  7.091939   2.704038  8.385296"
      ]
     },
     "execution_count": 25,
     "metadata": {},
     "output_type": "execute_result"
    }
   ],
   "source": [
    "DF = pd.DataFrame(Data)\n",
    "DF.head()"
   ]
  },
  {
   "cell_type": "code",
   "execution_count": 30,
   "metadata": {},
   "outputs": [],
   "source": [
    "DF.to_csv(\"data/sampledata.csv\")"
   ]
  },
  {
   "cell_type": "code",
   "execution_count": 31,
   "metadata": {},
   "outputs": [],
   "source": [
    "uploaded_data = pd.read_csv(\"data/sampledata.csv\")"
   ]
  },
  {
   "cell_type": "code",
   "execution_count": 32,
   "metadata": {},
   "outputs": [
    {
     "data": {
      "text/html": [
       "<div>\n",
       "<style scoped>\n",
       "    .dataframe tbody tr th:only-of-type {\n",
       "        vertical-align: middle;\n",
       "    }\n",
       "\n",
       "    .dataframe tbody tr th {\n",
       "        vertical-align: top;\n",
       "    }\n",
       "\n",
       "    .dataframe thead th {\n",
       "        text-align: right;\n",
       "    }\n",
       "</style>\n",
       "<table border=\"1\" class=\"dataframe\">\n",
       "  <thead>\n",
       "    <tr style=\"text-align: right;\">\n",
       "      <th></th>\n",
       "      <th>Unnamed: 0</th>\n",
       "      <th>x</th>\n",
       "      <th>y</th>\n",
       "      <th>z</th>\n",
       "    </tr>\n",
       "  </thead>\n",
       "  <tbody>\n",
       "    <tr>\n",
       "      <th>0</th>\n",
       "      <td>0</td>\n",
       "      <td>0.183981</td>\n",
       "      <td>3.996236</td>\n",
       "      <td>4.771161</td>\n",
       "    </tr>\n",
       "    <tr>\n",
       "      <th>1</th>\n",
       "      <td>1</td>\n",
       "      <td>3.449190</td>\n",
       "      <td>9.555414</td>\n",
       "      <td>6.604112</td>\n",
       "    </tr>\n",
       "    <tr>\n",
       "      <th>2</th>\n",
       "      <td>2</td>\n",
       "      <td>3.600050</td>\n",
       "      <td>12.032142</td>\n",
       "      <td>5.564332</td>\n",
       "    </tr>\n",
       "    <tr>\n",
       "      <th>3</th>\n",
       "      <td>3</td>\n",
       "      <td>1.238534</td>\n",
       "      <td>7.251211</td>\n",
       "      <td>4.648182</td>\n",
       "    </tr>\n",
       "    <tr>\n",
       "      <th>4</th>\n",
       "      <td>4</td>\n",
       "      <td>7.091939</td>\n",
       "      <td>2.704038</td>\n",
       "      <td>8.385296</td>\n",
       "    </tr>\n",
       "  </tbody>\n",
       "</table>\n",
       "</div>"
      ],
      "text/plain": [
       "   Unnamed: 0         x          y         z\n",
       "0           0  0.183981   3.996236  4.771161\n",
       "1           1  3.449190   9.555414  6.604112\n",
       "2           2  3.600050  12.032142  5.564332\n",
       "3           3  1.238534   7.251211  4.648182\n",
       "4           4  7.091939   2.704038  8.385296"
      ]
     },
     "execution_count": 32,
     "metadata": {},
     "output_type": "execute_result"
    }
   ],
   "source": [
    "uploaded_data.head()"
   ]
  },
  {
   "cell_type": "code",
   "execution_count": null,
   "metadata": {},
   "outputs": [],
   "source": []
  }
 ],
 "metadata": {
  "kernelspec": {
   "display_name": "Python 3",
   "language": "python",
   "name": "python3"
  },
  "language_info": {
   "codemirror_mode": {
    "name": "ipython",
    "version": 3
   },
   "file_extension": ".py",
   "mimetype": "text/x-python",
   "name": "python",
   "nbconvert_exporter": "python",
   "pygments_lexer": "ipython3",
   "version": "3.7.6"
  }
 },
 "nbformat": 4,
 "nbformat_minor": 4
}
